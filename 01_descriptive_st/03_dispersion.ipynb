{
 "cells": [
  {
   "cell_type": "markdown",
   "id": "d548118e-5621-4dd5-8653-abcf5851e9fc",
   "metadata": {},
   "source": [
    "# 散布度\n",
    "## <u>範囲</u>\n",
    "\n",
    "<center>\n",
    "  <br>\n",
    "        <h3><font color=\"red\"><b>dataの範囲, 最小値 〜 最大値</b></font></h3>\n",
    "  <br>\n",
    "  <br>\n",
    "</center>\n",
    "\n",
    "## <u>四分位数</u>\n",
    "\n",
    "<center>\n",
    "  <br>\n",
    "        <h3><font color=\"red\"><b>data の sort して四分割した時の値</b></font></h3>\n",
    "  <br>\n",
    "  <br>\n",
    "</center>\n",
    "\n",
    "## <u>平均偏差</u>\n",
    "\n",
    "<center>\n",
    "  <br>\n",
    "        <h3><font color=\"red\"><b>平均値（またわ中央値）からの偏差の平均</b></font></h3>\n",
    "  <br>\n",
    "  <br>\n",
    "</center>\n",
    "\n",
    "## <u>分散</u>\n",
    "\n",
    "<center>\n",
    "  <br>\n",
    "        <h3><font color=\"red\"><b>偏差の二乗の平均</b></font></h3>\n",
    "  <br>\n",
    "  <br>\n",
    "</center>\n",
    "\n",
    "## <u>標準偏差</u>\n",
    "\n",
    "<center>\n",
    "  <br>\n",
    "        <h3><font color=\"red\"><b>分散の平方根</b></font></h3>\n",
    "  <br>\n",
    "  <br>\n",
    "</center>"
   ]
  },
  {
   "cell_type": "code",
   "execution_count": null,
   "id": "abc020a7-84db-442f-a66d-04d4c67a5c13",
   "metadata": {},
   "outputs": [],
   "source": []
  }
 ],
 "metadata": {
  "kernelspec": {
   "display_name": "Python 3",
   "language": "python",
   "name": "python3"
  },
  "language_info": {
   "codemirror_mode": {
    "name": "ipython",
    "version": 3
   },
   "file_extension": ".py",
   "mimetype": "text/x-python",
   "name": "python",
   "nbconvert_exporter": "python",
   "pygments_lexer": "ipython3",
   "version": "3.8.8"
  }
 },
 "nbformat": 4,
 "nbformat_minor": 5
}
